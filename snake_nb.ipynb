{
 "cells": [
  {
   "cell_type": "markdown",
   "metadata": {},
   "source": [
    "# Palacing Apples in Snake - Intro\n",
    "###  \n",
    "\n",
    "Some video-games use uniform random distribuition to generate their level content. This also happens in Snake, where the location of each apple is set by calling a random generator. Because of this some apples are much easier the catch than others, or we run into sitiations where the snake doesn't even have to change directions. We can see an exemple of this in the image below:\n",
    "\n",
    "![alt text](jupyter_imgs/snake_bad_apple.png \"Bad Apple\")\n",
    "\n",
    "After playing Snake for a little while (during a tutorial! I usually don't play snake for fun! :P) and having this situation happen to me a couple times I started to think about a way of choosing the location of the apple (we are going to call it placing an apple) in a smarter way by using a regression model. This model can then take into account the Snake's state (the snake's position and direction) to predict the location of the next apple. This way we avoid the situation like the one I metioned above, and also make the process of comparing the score more fair, once they are not affected by a random variable.\n",
    "\n",
    "But this is not a conventional regression problem once there is no ground true. Each apple location is chosen randomly and therefore some apples have a good location and some others don't (By good location I mean that the apple was puted in a location that forces the player to take action). Therefore we need a way to select the good apples, so that our model can learn from them. \n",
    "\n",
    "For this we need to score each individual random apple location, and then use that score to select what were the best apple placements. To get to this score, we are going to use several metrics that measure the quality of a placement. Keep in mind that if we want to place the apple accordingly to the snake's state, these metrics should take this state into account. I will explain these metric in more detail later.\n",
    "\n",
    "Now that we have a data set with the best apple placements, we still have the problem that for a particular snake's state observation there are several locations that might be good to place an apple. To solve this, we are going to use this select dateset to generate several apple locations. Because these apples are generated close to the original apple, the quality of these generated locations should be close to the original selected data set. Also we are going to filter out all the generated locations that have worse metrics than the original observation.\n",
    "\n",
    "After this all that is left to do is to use cross_validation to select the best model for our data set, and then test this model in our test set.\n",
    "\n",
    "\n",
    "\n",
    "### Contents:\n",
    "\n",
    "Part 1: Creating a game log\n",
    "\n",
    "Part 2: Placing apples!\n",
    "\n",
    "0 - Opening the game log\n",
    "\n",
    "0.1 - Vizualizing some observations\n",
    "\n",
    "1 - Metrics to select the best apple placements\n",
    "\n",
    "1.1 - Metric's Scores\n",
    "\n",
    "2 - Filtering Metric's Scores to create a training set\n",
    "\n",
    "2.1 - Generating more apples\n",
    "\n",
    "3 - Features\n",
    "\n",
    "4 - Tranning\n",
    "\n",
    "4.1 - Testing\n",
    "\n",
    "5 - Create a model with your apples!\n"
   ]
  },
  {
   "cell_type": "markdown",
   "metadata": {},
   "source": [
    "# Part 1: Creating a game log\n",
    "\n",
    "For the fisrt part we are going to create a game log. This game log will be a file where we write all the apple locations and the snake's state when this apple was placed. Since some of the variables, such as the snake's position or direction, are `list` type, I decided to use .tsv instead of .csv so that we can dump them directly as text without worrying about the commas that are present between values in a `list`. This .tsv will also have some other fields for the metrics that have to be captured during the game (`time_secs` and `moves_to_apple`), `time_secs` is the number of seconds since the game started and `moves_to_apple` is the number of moves a player needed to catch an apple.\n",
    "\n",
    "This way this .tsv will contain the fields:\n",
    "\n",
    "`status|time_secs|score|moves_to_apple|apple_pos|snake_pos|snake_dir`\n",
    "\n",
    "During this part, one of the challenges was:\n",
    "\n",
    "Considering a single apple, we have to save the snakes state when this apple is generated. But once we want to measure the number of moves a player took to catch this same apple, the snake state will be different at this point. We also need to save the snake state when the apple is placed in the same row as the moves it took to catch that apple. So to achive this we have to save the snake state when the apple is placed in a seprate varible, wait for the snake to catch the apple (to know how many moves it took) and then dump the saved snake state and `moves_to_apple` (or any other variable available during prediction time) in the game log file.\n",
    "\n"
   ]
  },
  {
   "cell_type": "markdown",
   "metadata": {},
   "source": [
    "# Part 2: Placing apples!\n",
    "###  \n",
    "In this 2nd part we are going to use the data from our game log to create our metrics, select a dataset, train and test our models."
   ]
  },
  {
   "cell_type": "code",
   "execution_count": 1,
   "metadata": {},
   "outputs": [],
   "source": [
    "import matplotlib\n",
    "import numpy as np\n",
    "import matplotlib.pyplot as plt\n",
    "import pandas as pd\n",
    "import pickle\n",
    "# Sklearn\n",
    "from sklearn.ensemble import RandomForestRegressor, ExtraTreesRegressor\n",
    "from sklearn import metrics\n",
    "from sklearn.model_selection import GridSearchCV, KFold\n",
    "# Helper funtions\n",
    "from jupyter_utils.plots import plot_snake\n",
    "from jupyter_utils.metrics import compute_distance, compute_all_metrics, get_n_highest_rows\n",
    "from snake_game.features import position_norm, compute_all_feats\n",
    "from snake_game.config import SCR_SZ"
   ]
  },
  {
   "cell_type": "markdown",
   "metadata": {},
   "source": [
    "## 0 - Opening the game log\n",
    "We start by opening the game log file with the apple placements "
   ]
  },
  {
   "cell_type": "code",
   "execution_count": 2,
   "metadata": {},
   "outputs": [
    {
     "name": "stdout",
     "output_type": "stream",
     "text": [
      "status             object\n",
      "time_secs         float64\n",
      "score               int64\n",
      "moves_to_apple      int64\n",
      "apple_pos          object\n",
      "snake_pos          object\n",
      "snake_dir          object\n",
      "other              object\n",
      "time_to_apple     float64\n",
      "dtype: object\n"
     ]
    },
    {
     "data": {
      "text/html": [
       "<div>\n",
       "<style scoped>\n",
       "    .dataframe tbody tr th:only-of-type {\n",
       "        vertical-align: middle;\n",
       "    }\n",
       "\n",
       "    .dataframe tbody tr th {\n",
       "        vertical-align: top;\n",
       "    }\n",
       "\n",
       "    .dataframe thead th {\n",
       "        text-align: right;\n",
       "    }\n",
       "</style>\n",
       "<table border=\"1\" class=\"dataframe\">\n",
       "  <thead>\n",
       "    <tr style=\"text-align: right;\">\n",
       "      <th></th>\n",
       "      <th>status</th>\n",
       "      <th>time_secs</th>\n",
       "      <th>score</th>\n",
       "      <th>moves_to_apple</th>\n",
       "      <th>apple_pos</th>\n",
       "      <th>snake_pos</th>\n",
       "      <th>snake_dir</th>\n",
       "      <th>other</th>\n",
       "      <th>time_to_apple</th>\n",
       "    </tr>\n",
       "  </thead>\n",
       "  <tbody>\n",
       "    <tr>\n",
       "      <td>0</td>\n",
       "      <td>start</td>\n",
       "      <td>0.000</td>\n",
       "      <td>0</td>\n",
       "      <td>0</td>\n",
       "      <td>[]</td>\n",
       "      <td>[]</td>\n",
       "      <td>[]</td>\n",
       "      <td>{}</td>\n",
       "      <td>0.000</td>\n",
       "    </tr>\n",
       "    <tr>\n",
       "      <td>1</td>\n",
       "      <td>apple</td>\n",
       "      <td>2.067</td>\n",
       "      <td>0</td>\n",
       "      <td>2</td>\n",
       "      <td>[360, 130]</td>\n",
       "      <td>[[140, 280]]</td>\n",
       "      <td>[3, 0]</td>\n",
       "      <td>{}</td>\n",
       "      <td>2.067</td>\n",
       "    </tr>\n",
       "    <tr>\n",
       "      <td>2</td>\n",
       "      <td>apple</td>\n",
       "      <td>4.282</td>\n",
       "      <td>0</td>\n",
       "      <td>2</td>\n",
       "      <td>[100, 250]</td>\n",
       "      <td>[[380, 148]]</td>\n",
       "      <td>[0, -3]</td>\n",
       "      <td>{}</td>\n",
       "      <td>2.215</td>\n",
       "    </tr>\n",
       "    <tr>\n",
       "      <td>3</td>\n",
       "      <td>apple</td>\n",
       "      <td>5.529</td>\n",
       "      <td>1</td>\n",
       "      <td>2</td>\n",
       "      <td>[270, 240]</td>\n",
       "      <td>[[107, 220], [107, 187]]</td>\n",
       "      <td>[0, 3]</td>\n",
       "      <td>{}</td>\n",
       "      <td>1.247</td>\n",
       "    </tr>\n",
       "    <tr>\n",
       "      <td>4</td>\n",
       "      <td>apple</td>\n",
       "      <td>7.432</td>\n",
       "      <td>2</td>\n",
       "      <td>3</td>\n",
       "      <td>[190, 370]</td>\n",
       "      <td>[[248, 250], [242, 277], [209, 277]]</td>\n",
       "      <td>[0, -3]</td>\n",
       "      <td>{}</td>\n",
       "      <td>1.903</td>\n",
       "    </tr>\n",
       "    <tr>\n",
       "      <td>...</td>\n",
       "      <td>...</td>\n",
       "      <td>...</td>\n",
       "      <td>...</td>\n",
       "      <td>...</td>\n",
       "      <td>...</td>\n",
       "      <td>...</td>\n",
       "      <td>...</td>\n",
       "      <td>...</td>\n",
       "      <td>...</td>\n",
       "    </tr>\n",
       "    <tr>\n",
       "      <td>1365</td>\n",
       "      <td>apple</td>\n",
       "      <td>94.875</td>\n",
       "      <td>41</td>\n",
       "      <td>2</td>\n",
       "      <td>[390, 290]</td>\n",
       "      <td>[[18, 210], [18, 243], [18, 276], [18, 309], [...</td>\n",
       "      <td>[0, -3]</td>\n",
       "      <td>{}</td>\n",
       "      <td>4.462</td>\n",
       "    </tr>\n",
       "    <tr>\n",
       "      <td>1366</td>\n",
       "      <td>apple</td>\n",
       "      <td>97.341</td>\n",
       "      <td>42</td>\n",
       "      <td>2</td>\n",
       "      <td>[170, 300]</td>\n",
       "      <td>[[381, 261], [381, 228], [381, 195], [381, 162...</td>\n",
       "      <td>[0, 3]</td>\n",
       "      <td>{}</td>\n",
       "      <td>2.466</td>\n",
       "    </tr>\n",
       "    <tr>\n",
       "      <td>1367</td>\n",
       "      <td>apple</td>\n",
       "      <td>102.096</td>\n",
       "      <td>43</td>\n",
       "      <td>5</td>\n",
       "      <td>[410, 40]</td>\n",
       "      <td>[[147, 309], [147, 342], [147, 375], [165, 390...</td>\n",
       "      <td>[0, -3]</td>\n",
       "      <td>{}</td>\n",
       "      <td>4.755</td>\n",
       "    </tr>\n",
       "    <tr>\n",
       "      <td>1368</td>\n",
       "      <td>apple</td>\n",
       "      <td>107.060</td>\n",
       "      <td>44</td>\n",
       "      <td>4</td>\n",
       "      <td>[110, 200]</td>\n",
       "      <td>[[381, 18], [348, 18], [315, 18], [282, 18], [...</td>\n",
       "      <td>[3, 0]</td>\n",
       "      <td>{}</td>\n",
       "      <td>4.964</td>\n",
       "    </tr>\n",
       "    <tr>\n",
       "      <td>1369</td>\n",
       "      <td>overS</td>\n",
       "      <td>108.811</td>\n",
       "      <td>45</td>\n",
       "      <td>2</td>\n",
       "      <td>[260, 220]</td>\n",
       "      <td>[[129, 186], [132, 216], [132, 249], [132, 282...</td>\n",
       "      <td>[-3, 0]</td>\n",
       "      <td>{'fin_pos': [[150, 90], [117, 90], [84, 90], [...</td>\n",
       "      <td>1.751</td>\n",
       "    </tr>\n",
       "  </tbody>\n",
       "</table>\n",
       "<p>1370 rows × 9 columns</p>\n",
       "</div>"
      ],
      "text/plain": [
       "     status  time_secs  score  moves_to_apple   apple_pos  \\\n",
       "0     start      0.000      0               0          []   \n",
       "1     apple      2.067      0               2  [360, 130]   \n",
       "2     apple      4.282      0               2  [100, 250]   \n",
       "3     apple      5.529      1               2  [270, 240]   \n",
       "4     apple      7.432      2               3  [190, 370]   \n",
       "...     ...        ...    ...             ...         ...   \n",
       "1365  apple     94.875     41               2  [390, 290]   \n",
       "1366  apple     97.341     42               2  [170, 300]   \n",
       "1367  apple    102.096     43               5   [410, 40]   \n",
       "1368  apple    107.060     44               4  [110, 200]   \n",
       "1369  overS    108.811     45               2  [260, 220]   \n",
       "\n",
       "                                              snake_pos snake_dir  \\\n",
       "0                                                    []        []   \n",
       "1                                          [[140, 280]]    [3, 0]   \n",
       "2                                          [[380, 148]]   [0, -3]   \n",
       "3                              [[107, 220], [107, 187]]    [0, 3]   \n",
       "4                  [[248, 250], [242, 277], [209, 277]]   [0, -3]   \n",
       "...                                                 ...       ...   \n",
       "1365  [[18, 210], [18, 243], [18, 276], [18, 309], [...   [0, -3]   \n",
       "1366  [[381, 261], [381, 228], [381, 195], [381, 162...    [0, 3]   \n",
       "1367  [[147, 309], [147, 342], [147, 375], [165, 390...   [0, -3]   \n",
       "1368  [[381, 18], [348, 18], [315, 18], [282, 18], [...    [3, 0]   \n",
       "1369  [[129, 186], [132, 216], [132, 249], [132, 282...   [-3, 0]   \n",
       "\n",
       "                                                  other  time_to_apple  \n",
       "0                                                    {}          0.000  \n",
       "1                                                    {}          2.067  \n",
       "2                                                    {}          2.215  \n",
       "3                                                    {}          1.247  \n",
       "4                                                    {}          1.903  \n",
       "...                                                 ...            ...  \n",
       "1365                                                 {}          4.462  \n",
       "1366                                                 {}          2.466  \n",
       "1367                                                 {}          4.755  \n",
       "1368                                                 {}          4.964  \n",
       "1369  {'fin_pos': [[150, 90], [117, 90], [84, 90], [...          1.751  \n",
       "\n",
       "[1370 rows x 9 columns]"
      ]
     },
     "metadata": {},
     "output_type": "display_data"
    }
   ],
   "source": [
    "from jupyter_utils.parser import parse_and_preprocess_game_log\n",
    "\n",
    "df = parse_and_preprocess_game_log(\"game_log_1.tsv\")\n",
    "\n",
    "# Checking the types to make sure or parsing is working\n",
    "print(df.dtypes)\n",
    "# Quick look into the data\n",
    "with pd.option_context('display.max_rows',10):\n",
    "    display(df)"
   ]
  },
  {
   "cell_type": "markdown",
   "metadata": {},
   "source": [
    "### 0.1 - Vizualizing some observations\n",
    "#####  \n",
    "As a helper method, I created the function `plot_snake()` (`jupyter_utils.py`). This function can be used to check the snake and apple(s) position. \n",
    "\n",
    "It's quite useful as it allows you to visualize several placements at the same time. It helps you do simple debugging and experiment with the type of game scenarios you have in your training set. It also helps with feature engineering and to check the model's prediction.\n",
    "\n",
    "We are also adding a column that represents the position of the previous apple. This column is used in the visualization and also to make sure our game logs are correct."
   ]
  },
  {
   "cell_type": "code",
   "execution_count": 3,
   "metadata": {},
   "outputs": [],
   "source": [
    "# The position of the previous apple can be obtained by just shifting the \"apple_pos\" column\n",
    "df[\"prev_apple_pos\"] = df.apple_pos.shift(1)"
   ]
  },
  {
   "cell_type": "code",
   "execution_count": 4,
   "metadata": {
    "scrolled": true
   },
   "outputs": [
    {
     "data": {
      "image/png": "[encoded data removed]",
      "text/plain": [
       "<Figure size 1512x504 with 3 Axes>"
      ]
     },
     "metadata": {
      "needs_background": "light"
     },
     "output_type": "display_data"
    }
   ],
   "source": [
    "# Exemple on how to use plot_snake()\n",
    "plot_snake(df.iloc[:4])"
   ]
  },
  {
   "cell_type": "markdown",
   "metadata": {},
   "source": [
    "## 1 - Metrics to select the best apple placements\n",
    "####  \n",
    "As explained before, we need to design a metric to measure the quality of each apple location, in relation with the snake's state. We have to keep in mind that there are several criteria we can use for these metrics. The beahviour of our model will be influenced by the metrics you use, since these metrics will be used to select our training set. This way different metrics can be chosen to archive different game experiments.\n",
    "\n",
    "When designing these metrics, take into account that simple metrics work better once it's easier for the model to indentify relations between the apple's location and the snake's state. Also you should have more than one metric, as different metrics might be useful in different stages of the game.\n",
    "\n",
    "With this in mind let's think about some metrics that we can use:\n",
    "\n",
    "   * `time_to_apple`: The time that it takes for the snake to go from one apple to the other. The longer it takes for the snake to get to an apple, the better than apple was placed. This is not necessarly always true, especially for the beggining of the game, but as the snake grows, the snake's body gets in the way of the apple, making you take longer for apples that were not in direct reach.\n",
    "    \n",
    "   * `moves_to_apple`: This is a pretty simple metric, the more moves you had to make to get the apple, the harder it was and therefore the better that apple was placed.\n",
    "\n",
    "   * `apple_dist`: The disntace between the apple and the snake's mouth. This metric aims to penalize apples that were to close to the snake. Not all the apples that are close to the snake are bad, but we can detect those with other metrics.\n",
    "\n",
    "   * `snake_dir_to_apple_angle`: The angles between the snake's direction and the apple. The higher this angle is the more moves the player will have to do, as the snake needs to change its direction.\n",
    "\n",
    "![alt text](jupyter_imgs/snake_dir_apple_angle.png \"Title\")\n",
    "\n",
    "   * `num_intersections_w_snake`: The number of times that a strait line from the apple to the snake's mouth intersects the snake's body. If there is an intersection, this mean that the sanke can not go directly towards the apple (as we can see in the image below), and therefore demands more moves, making it a harder to get the apple. In the example below it's 1.\n",
    "\n",
    "![alt text](jupyter_imgs/snake_intersections.png \"Title\")\n",
    "\n",
    "Below we will calculate these metrics."
   ]
  },
  {
   "cell_type": "code",
   "execution_count": 5,
   "metadata": {},
   "outputs": [
    {
     "data": {
      "text/html": [
       "<div>\n",
       "<style scoped>\n",
       "    .dataframe tbody tr th:only-of-type {\n",
       "        vertical-align: middle;\n",
       "    }\n",
       "\n",
       "    .dataframe tbody tr th {\n",
       "        vertical-align: top;\n",
       "    }\n",
       "\n",
       "    .dataframe thead th {\n",
       "        text-align: right;\n",
       "    }\n",
       "</style>\n",
       "<table border=\"1\" class=\"dataframe\">\n",
       "  <thead>\n",
       "    <tr style=\"text-align: right;\">\n",
       "      <th></th>\n",
       "      <th>status</th>\n",
       "      <th>time_secs</th>\n",
       "      <th>score</th>\n",
       "      <th>moves_to_apple</th>\n",
       "      <th>apple_pos</th>\n",
       "      <th>snake_pos</th>\n",
       "      <th>snake_dir</th>\n",
       "      <th>time_to_apple</th>\n",
       "      <th>prev_apple_pos</th>\n",
       "      <th>apple_dist</th>\n",
       "      <th>snake_dir_to_apple_angle</th>\n",
       "      <th>num_intersections_w_snake</th>\n",
       "      <th>num_apple_sides_w_snake</th>\n",
       "    </tr>\n",
       "  </thead>\n",
       "  <tbody>\n",
       "    <tr>\n",
       "      <td>1</td>\n",
       "      <td>apple</td>\n",
       "      <td>2.067</td>\n",
       "      <td>0</td>\n",
       "      <td>2</td>\n",
       "      <td>[360, 130]</td>\n",
       "      <td>[[140, 280]]</td>\n",
       "      <td>[3, 0]</td>\n",
       "      <td>2.067</td>\n",
       "      <td>[]</td>\n",
       "      <td>266.270539</td>\n",
       "      <td>34.286877</td>\n",
       "      <td>0.0</td>\n",
       "      <td>0</td>\n",
       "    </tr>\n",
       "    <tr>\n",
       "      <td>2</td>\n",
       "      <td>apple</td>\n",
       "      <td>4.282</td>\n",
       "      <td>0</td>\n",
       "      <td>2</td>\n",
       "      <td>[100, 250]</td>\n",
       "      <td>[[380, 148]]</td>\n",
       "      <td>[0, -3]</td>\n",
       "      <td>2.215</td>\n",
       "      <td>[360, 130]</td>\n",
       "      <td>298.000000</td>\n",
       "      <td>110.015960</td>\n",
       "      <td>0.0</td>\n",
       "      <td>0</td>\n",
       "    </tr>\n",
       "    <tr>\n",
       "      <td>3</td>\n",
       "      <td>apple</td>\n",
       "      <td>5.529</td>\n",
       "      <td>1</td>\n",
       "      <td>2</td>\n",
       "      <td>[270, 240]</td>\n",
       "      <td>[[107, 220], [107, 187]]</td>\n",
       "      <td>[0, 3]</td>\n",
       "      <td>1.247</td>\n",
       "      <td>[100, 250]</td>\n",
       "      <td>164.222410</td>\n",
       "      <td>83.004808</td>\n",
       "      <td>0.0</td>\n",
       "      <td>0</td>\n",
       "    </tr>\n",
       "    <tr>\n",
       "      <td>4</td>\n",
       "      <td>apple</td>\n",
       "      <td>7.432</td>\n",
       "      <td>2</td>\n",
       "      <td>3</td>\n",
       "      <td>[190, 370]</td>\n",
       "      <td>[[248, 250], [242, 277], [209, 277]]</td>\n",
       "      <td>[0, -3]</td>\n",
       "      <td>1.903</td>\n",
       "      <td>[270, 240]</td>\n",
       "      <td>133.281657</td>\n",
       "      <td>154.203974</td>\n",
       "      <td>1.0</td>\n",
       "      <td>0</td>\n",
       "    </tr>\n",
       "    <tr>\n",
       "      <td>5</td>\n",
       "      <td>apple</td>\n",
       "      <td>10.427</td>\n",
       "      <td>3</td>\n",
       "      <td>2</td>\n",
       "      <td>[370, 10]</td>\n",
       "      <td>[[194, 340], [194, 307], [194, 274], [194, 241]]</td>\n",
       "      <td>[0, 3]</td>\n",
       "      <td>2.995</td>\n",
       "      <td>[190, 370]</td>\n",
       "      <td>374.000000</td>\n",
       "      <td>151.927513</td>\n",
       "      <td>0.0</td>\n",
       "      <td>0</td>\n",
       "    </tr>\n",
       "  </tbody>\n",
       "</table>\n",
       "</div>"
      ],
      "text/plain": [
       "  status  time_secs  score  moves_to_apple   apple_pos  \\\n",
       "1  apple      2.067      0               2  [360, 130]   \n",
       "2  apple      4.282      0               2  [100, 250]   \n",
       "3  apple      5.529      1               2  [270, 240]   \n",
       "4  apple      7.432      2               3  [190, 370]   \n",
       "5  apple     10.427      3               2   [370, 10]   \n",
       "\n",
       "                                          snake_pos snake_dir  time_to_apple  \\\n",
       "1                                      [[140, 280]]    [3, 0]          2.067   \n",
       "2                                      [[380, 148]]   [0, -3]          2.215   \n",
       "3                          [[107, 220], [107, 187]]    [0, 3]          1.247   \n",
       "4              [[248, 250], [242, 277], [209, 277]]   [0, -3]          1.903   \n",
       "5  [[194, 340], [194, 307], [194, 274], [194, 241]]    [0, 3]          2.995   \n",
       "\n",
       "  prev_apple_pos  apple_dist  snake_dir_to_apple_angle  \\\n",
       "1             []  266.270539                 34.286877   \n",
       "2     [360, 130]  298.000000                110.015960   \n",
       "3     [100, 250]  164.222410                 83.004808   \n",
       "4     [270, 240]  133.281657                154.203974   \n",
       "5     [190, 370]  374.000000                151.927513   \n",
       "\n",
       "   num_intersections_w_snake  num_apple_sides_w_snake  \n",
       "1                        0.0                        0  \n",
       "2                        0.0                        0  \n",
       "3                        0.0                        0  \n",
       "4                        1.0                        0  \n",
       "5                        0.0                        0  "
      ]
     },
     "execution_count": 5,
     "metadata": {},
     "output_type": "execute_result"
    }
   ],
   "source": [
    "metrics_df = df[df.status != 'start'].drop(\"other\", axis=1).copy()\n",
    "metrics_df = compute_all_metrics(metrics_df)\n",
    "metrics_df.head()"
   ]
  },
  {
   "cell_type": "markdown",
   "metadata": {},
   "source": [
    "Now, let's take a look at the highest top 3 cases for each metric.\n",
    "\n",
    "As we can see, for most of these cases the apple location was not an easy one for the player."
   ]
  },
  {
   "cell_type": "code",
   "execution_count": 6,
   "metadata": {},
   "outputs": [
    {
     "data": {
      "image/png": "[encoded data removed]",
      "text/plain": [
       "<Figure size 1512x504 with 3 Axes>"
      ]
     },
     "metadata": {
      "needs_background": "light"
     },
     "output_type": "display_data"
    }
   ],
   "source": [
    "plot_snake(get_n_highest_rows(metrics_df, \"time_to_apple\"))"
   ]
  },
  {
   "cell_type": "code",
   "execution_count": 7,
   "metadata": {},
   "outputs": [
    {
     "data": {
      "image/png": "[encoded data removed]",
      "text/plain": [
       "<Figure size 1512x504 with 3 Axes>"
      ]
     },
     "metadata": {
      "needs_background": "light"
     },
     "output_type": "display_data"
    }
   ],
   "source": [
    "plot_snake(get_n_highest_rows(metrics_df, \"moves_to_apple\"))"
   ]
  },
  {
   "cell_type": "code",
   "execution_count": 8,
   "metadata": {},
   "outputs": [
    {
     "data": {
      "image/png": "[encoded data removed]",
      "text/plain": [
       "<Figure size 1512x504 with 3 Axes>"
      ]
     },
     "metadata": {
      "needs_background": "light"
     },
     "output_type": "display_data"
    }
   ],
   "source": [
    "plot_snake(get_n_highest_rows(metrics_df, \"apple_dist\"))"
   ]
  },
  {
   "cell_type": "code",
   "execution_count": 9,
   "metadata": {},
   "outputs": [
    {
     "data": {
      "image/png": "[encoded data removed]",
      "text/plain": [
       "<Figure size 1512x504 with 3 Axes>"
      ]
     },
     "metadata": {
      "needs_background": "light"
     },
     "output_type": "display_data"
    }
   ],
   "source": [
    "plot_snake(get_n_highest_rows(metrics_df, \"snake_dir_to_apple_angle\"))"
   ]
  },
  {
   "cell_type": "code",
   "execution_count": 10,
   "metadata": {},
   "outputs": [
    {
     "data": {
      "image/png": "[encoded data removed]",
      "text/plain": [
       "<Figure size 1512x504 with 3 Axes>"
      ]
     },
     "metadata": {
      "needs_background": "light"
     },
     "output_type": "display_data"
    }
   ],
   "source": [
    "plot_snake(get_n_highest_rows(metrics_df, \"num_intersections_w_snake\"))"
   ]
  },
  {
   "cell_type": "markdown",
   "metadata": {},
   "source": [
    "To make sure our metrics are correct let's take a look at their distributions."
   ]
  },
  {
   "cell_type": "code",
   "execution_count": 11,
   "metadata": {},
   "outputs": [
    {
     "data": {
      "image/png": "[encoded data removed]",
      "text/plain": [
       "<Figure size 1800x1080 with 6 Axes>"
      ]
     },
     "metadata": {
      "needs_background": "light"
     },
     "output_type": "display_data"
    }
   ],
   "source": [
    "metrics_columns = [\"moves_to_apple\", \"time_to_apple\", \n",
    "                   \"apple_dist\",\"snake_dir_to_apple_angle\", \n",
    "                   \"num_intersections_w_snake\"]\n",
    "_=metrics_df[metrics_columns].hist(bins=20,figsize=(25,15))"
   ]
  },
  {
   "cell_type": "markdown",
   "metadata": {},
   "source": [
    "### 1.1 - Metric's Scores\n",
    "#####   \n",
    "Now that we have several metrics, we need a single value score that allows us to select the best placements. This score can also be used to compare the performance between different models and the random process.\n",
    "\n",
    "To compute the score we are going to calculate a weighted average of the metrics we defined. We can pick diferent weights depending on the desired beahviour we want for our model's predictions. But keep in mind that each metric has a different scale and shape and we are including all these different metrics in a single score. \n",
    "\n",
    "Therefore, we shouldn't average the value of the metric itself (ex: secs_to_Apple:2.3s) but the percentile. So in the end we are going to get the percentile of each observation per metric and then get the final score by averaging these percentiles. This way we remove the shape and scale of each metric and have more control over the weights in the final score."
   ]
  },
  {
   "cell_type": "code",
   "execution_count": 12,
   "metadata": {},
   "outputs": [
    {
     "data": {
      "text/plain": [
       "['moves_to_apple',\n",
       " 'time_to_apple',\n",
       " 'apple_dist',\n",
       " 'snake_dir_to_apple_angle',\n",
       " 'num_intersections_w_snake']"
      ]
     },
     "execution_count": 12,
     "metadata": {},
     "output_type": "execute_result"
    }
   ],
   "source": [
    "metrics_columns"
   ]
  },
  {
   "cell_type": "code",
   "execution_count": 13,
   "metadata": {},
   "outputs": [],
   "source": [
    "# Inplementation of the score funtion\n",
    "#score_columns = [\"moves_to_apple\", \"time_to_apple\", \"apple_dist\", \"snake_dir_to_apple_angle\"]\n",
    "score_weights = [1,1,1,1, 1]\n",
    "def score_apples_placement(df, score_columns, score_weights):\n",
    "    score_df = df[score_columns]\n",
    "\n",
    "    #score_df = (score_df-score_df.min())/(score_df.max()-score_df.min())\n",
    "    score_df = score_df.rank()/score_df.rank().max()\n",
    "\n",
    "    score_df[\"apple_plc_score\"] = np.average(score_df, axis=1, weights=score_weights)\n",
    "    return score_df[\"apple_plc_score\"]\n",
    "\n",
    "# The columns that had a weight deferent than zero during the scoring\n",
    "valid_filter_cols = [m for m, w in zip(metrics_columns, score_weights) if w != 0]\n",
    "# Calculating the scores\n",
    "metrics_df[\"apple_plc_score\"] = score_apples_placement(metrics_df, metrics_columns, score_weights)"
   ]
  },
  {
   "cell_type": "code",
   "execution_count": 14,
   "metadata": {},
   "outputs": [
    {
     "data": {
      "text/plain": [
       "<matplotlib.axes._subplots.AxesSubplot at 0x131369e10>"
      ]
     },
     "execution_count": 14,
     "metadata": {},
     "output_type": "execute_result"
    },
    {
     "data": {
      "image/png": "[encoded data removed]",
      "text/plain": [
       "<Figure size 432x288 with 1 Axes>"
      ]
     },
     "metadata": {
      "needs_background": "light"
     },
     "output_type": "display_data"
    }
   ],
   "source": [
    "# The distribuition of our scores \n",
    "metrics_df[\"apple_plc_score\"].hist()"
   ]
  },
  {
   "cell_type": "markdown",
   "metadata": {},
   "source": [
    "# 2 - Filtering Metric's Scores to create a training set\n",
    "###  \n",
    "Now that we scored each apple we want to use these scores to create a training set with the best placements. Before that we are also going to select our test set, since the test set shouldn't be affected by this filtering."
   ]
  },
  {
   "cell_type": "code",
   "execution_count": 15,
   "metadata": {},
   "outputs": [],
   "source": [
    "# Pick the last 15 games\n",
    "test_ds_start_idx = df[df.status == 'start'].iloc[-15].name\n",
    "\n",
    "test_df = metrics_df.loc[test_ds_start_idx:].copy()\n",
    "metrics_df = metrics_df.loc[:test_ds_start_idx]#.iloc[:-1]"
   ]
  },
  {
   "cell_type": "code",
   "execution_count": 16,
   "metadata": {},
   "outputs": [
    {
     "data": {
      "text/plain": [
       "(248, 14)"
      ]
     },
     "execution_count": 16,
     "metadata": {},
     "output_type": "execute_result"
    }
   ],
   "source": [
    "# Once we used percentile for our scores, by selecting a value of\n",
    "# 0.6 as a lower limit for our trainig set, we garanty that if one of the metrics is 1\n",
    "# then the other is at least 0.1\n",
    "selected_df = metrics_df[metrics_df[\"apple_plc_score\"]  >=0.65]\n",
    "selected_df.shape"
   ]
  },
  {
   "cell_type": "markdown",
   "metadata": {},
   "source": [
    "After selecting our training set we have to make sure that we have observations in all spectrums of the game score. Because, we need our model to be trained with data for all the levels (in this case score) of the game.\n",
    "As we can see below on the plot from the right."
   ]
  },
  {
   "cell_type": "code",
   "execution_count": 17,
   "metadata": {},
   "outputs": [
    {
     "data": {
      "text/plain": [
       "array([[<matplotlib.axes._subplots.AxesSubplot object at 0x12efb23c8>,\n",
       "        <matplotlib.axes._subplots.AxesSubplot object at 0x132411e80>]],\n",
       "      dtype=object)"
      ]
     },
     "execution_count": 17,
     "metadata": {},
     "output_type": "execute_result"
    },
    {
     "data": {
      "image/png": "[encoded data removed]",
      "text/plain": [
       "<Figure size 1080x432 with 2 Axes>"
      ]
     },
     "metadata": {
      "needs_background": "light"
     },
     "output_type": "display_data"
    }
   ],
   "source": [
    "# We should have data points in all the score range\n",
    "selected_df[[\"score\",\"apple_plc_score\"]].hist(figsize=(15,6))"
   ]
  },
  {
   "cell_type": "markdown",
   "metadata": {},
   "source": [
    "### 2.1 - Generating more apples\n",
    "#####  \n",
    "For each snake's state, there is more than one possible option to place a good apple. So from a single placement we are going to randomly generate several placements that are close to the original placement. \n",
    "Also this helps our regressor to not over fit.\n",
    "All the generated apple locations that have worse metric than the original observation are filtered, to make sure we don't generate observations that are worse than its original."
   ]
  },
  {
   "cell_type": "code",
   "execution_count": 18,
   "metadata": {},
   "outputs": [],
   "source": [
    "def generate_apples_from_row(row, n_try = 6):\n",
    "    ap_pos = row.apple_pos\n",
    "    rand_lim = [50,50]\n",
    "    rand_lim_min = -np.minimum(ap_pos, np.array(rand_lim))\n",
    "    rand_lim_max = np.minimum(np.array(SCR_SZ) - np.array(ap_pos), rand_lim)\n",
    "    \n",
    "    randa = np.stack((\n",
    "        np.random.randint(rand_lim_min[0], rand_lim_max[0], size=(n_try,)),\n",
    "        np.random.randint(rand_lim_min[1], rand_lim_max[1], size=(n_try,))\n",
    "    ), axis=1)\n",
    "\n",
    "    new_ap_pos = ap_pos+randa\n",
    "    \n",
    "    new_apples_df = pd.DataFrame(n_try*[row])\n",
    "    new_apples_df[\"apple_pos\"] = new_ap_pos.tolist()\n",
    "    new_apples_df[\"apple_pos\"] = new_apples_df[\"apple_pos\"].apply(np.array)\n",
    "\n",
    "    new_apples_df = compute_all_metrics(new_apples_df)\n",
    "    selected_new_apples_bool = (new_apples_df[valid_filter_cols] >= row[valid_filter_cols]).all(axis=1)\n",
    "    new_apples_df = new_apples_df[selected_new_apples_bool].reset_index()\n",
    "    return new_apples_df\n",
    "\n",
    "def generate_apples(df, n_tries_per_row = 6):\n",
    "    generated_dfs = df.apply(lambda r: generate_apples_from_row(r, n_tries_per_row), axis=1)\n",
    "    return pd.concat(generated_dfs.values, ignore_index=True)"
   ]
  },
  {
   "cell_type": "code",
   "execution_count": 19,
   "metadata": {},
   "outputs": [
    {
     "data": {
      "text/html": [
       "<div>\n",
       "<style scoped>\n",
       "    .dataframe tbody tr th:only-of-type {\n",
       "        vertical-align: middle;\n",
       "    }\n",
       "\n",
       "    .dataframe tbody tr th {\n",
       "        vertical-align: top;\n",
       "    }\n",
       "\n",
       "    .dataframe thead th {\n",
       "        text-align: right;\n",
       "    }\n",
       "</style>\n",
       "<table border=\"1\" class=\"dataframe\">\n",
       "  <thead>\n",
       "    <tr style=\"text-align: right;\">\n",
       "      <th></th>\n",
       "      <th>index</th>\n",
       "      <th>status</th>\n",
       "      <th>time_secs</th>\n",
       "      <th>score</th>\n",
       "      <th>moves_to_apple</th>\n",
       "      <th>apple_pos</th>\n",
       "      <th>snake_pos</th>\n",
       "      <th>snake_dir</th>\n",
       "      <th>time_to_apple</th>\n",
       "      <th>prev_apple_pos</th>\n",
       "      <th>apple_dist</th>\n",
       "      <th>snake_dir_to_apple_angle</th>\n",
       "      <th>num_intersections_w_snake</th>\n",
       "      <th>num_apple_sides_w_snake</th>\n",
       "      <th>apple_plc_score</th>\n",
       "    </tr>\n",
       "  </thead>\n",
       "  <tbody>\n",
       "    <tr>\n",
       "      <td>0</td>\n",
       "      <td>6</td>\n",
       "      <td>apple</td>\n",
       "      <td>14.011</td>\n",
       "      <td>4</td>\n",
       "      <td>2</td>\n",
       "      <td>[42, 402]</td>\n",
       "      <td>[[368, 28], [368, 61], [368, 94], [368, 127], ...</td>\n",
       "      <td>[0, -3]</td>\n",
       "      <td>3.584</td>\n",
       "      <td>[370, 10]</td>\n",
       "      <td>496.137078</td>\n",
       "      <td>138.922713</td>\n",
       "      <td>0</td>\n",
       "      <td>0</td>\n",
       "      <td>0.67021</td>\n",
       "    </tr>\n",
       "    <tr>\n",
       "      <td>1</td>\n",
       "      <td>6</td>\n",
       "      <td>apple</td>\n",
       "      <td>14.011</td>\n",
       "      <td>4</td>\n",
       "      <td>2</td>\n",
       "      <td>[38, 409]</td>\n",
       "      <td>[[368, 28], [368, 61], [368, 94], [368, 127], ...</td>\n",
       "      <td>[0, -3]</td>\n",
       "      <td>3.584</td>\n",
       "      <td>[370, 10]</td>\n",
       "      <td>504.044641</td>\n",
       "      <td>139.102797</td>\n",
       "      <td>0</td>\n",
       "      <td>0</td>\n",
       "      <td>0.67021</td>\n",
       "    </tr>\n",
       "  </tbody>\n",
       "</table>\n",
       "</div>"
      ],
      "text/plain": [
       "   index status  time_secs  score  moves_to_apple  apple_pos  \\\n",
       "0      6  apple     14.011      4               2  [42, 402]   \n",
       "1      6  apple     14.011      4               2  [38, 409]   \n",
       "\n",
       "                                           snake_pos snake_dir  time_to_apple  \\\n",
       "0  [[368, 28], [368, 61], [368, 94], [368, 127], ...   [0, -3]          3.584   \n",
       "1  [[368, 28], [368, 61], [368, 94], [368, 127], ...   [0, -3]          3.584   \n",
       "\n",
       "  prev_apple_pos  apple_dist  snake_dir_to_apple_angle  \\\n",
       "0      [370, 10]  496.137078                138.922713   \n",
       "1      [370, 10]  504.044641                139.102797   \n",
       "\n",
       "   num_intersections_w_snake  num_apple_sides_w_snake  apple_plc_score  \n",
       "0                          0                        0          0.67021  \n",
       "1                          0                        0          0.67021  "
      ]
     },
     "execution_count": 19,
     "metadata": {},
     "output_type": "execute_result"
    }
   ],
   "source": [
    "# testing the function in a single row\n",
    "# different runs will produnce different number of new obsevations\n",
    "generate_apples(selected_df.iloc[:2])"
   ]
  },
  {
   "cell_type": "markdown",
   "metadata": {},
   "source": [
    "# 3 - Features\n",
    "###  \n",
    "Once our model has to react to different states of the snake (possition and direction), we need features that reflect this.\n",
    "\n",
    "For this use directly the snake direction (as dummies) and game score. Although we can't do the same with the snake's location, since the size of the snake keeps growing as the game progresses. So we need to normalize it to a constant size. To do this consider a line that starts in the snake's mouth and ends on the tail, the last square of the snake. To normalize the snake location to an array of size `N` we can simply sample this line in `N` points. In the exemple bellow `N=5`\n",
    "\n",
    "![alt text](jupyter_imgs/snake_norm_loc.png \"Title\")\n",
    "\n",
    "Besides these features I also tried to use the min, max and mean of the snake's location. \n",
    "\n",
    "Keep in mind that since these features have to be used during the game, we need to declare them outside this notebook, by defining them in the `snake_game/features.py` file. Also, because the feature are going to be computed during gameplay, we should keep performace in mind. For this I avoided using `pandas` and tried to use `numpy` as much as possible, even though in this particular case we are talking about snake!"
   ]
  },
  {
   "cell_type": "code",
   "execution_count": 20,
   "metadata": {},
   "outputs": [
    {
     "data": {
      "text/html": [
       "<div>\n",
       "<style scoped>\n",
       "    .dataframe tbody tr th:only-of-type {\n",
       "        vertical-align: middle;\n",
       "    }\n",
       "\n",
       "    .dataframe tbody tr th {\n",
       "        vertical-align: top;\n",
       "    }\n",
       "\n",
       "    .dataframe thead th {\n",
       "        text-align: right;\n",
       "    }\n",
       "</style>\n",
       "<table border=\"1\" class=\"dataframe\">\n",
       "  <thead>\n",
       "    <tr style=\"text-align: right;\">\n",
       "      <th></th>\n",
       "      <th>norm_pos_0_x</th>\n",
       "      <th>norm_pos_0_y</th>\n",
       "      <th>norm_pos_1_x</th>\n",
       "      <th>norm_pos_1_y</th>\n",
       "      <th>norm_pos_2_x</th>\n",
       "      <th>norm_pos_2_y</th>\n",
       "      <th>norm_pos_3_x</th>\n",
       "      <th>norm_pos_3_y</th>\n",
       "      <th>norm_pos_4_x</th>\n",
       "      <th>norm_pos_4_y</th>\n",
       "      <th>...</th>\n",
       "      <th>snake_dir_D</th>\n",
       "      <th>snake_dir_U</th>\n",
       "      <th>min_x</th>\n",
       "      <th>min_y</th>\n",
       "      <th>max_x</th>\n",
       "      <th>max_y</th>\n",
       "      <th>avg_x</th>\n",
       "      <th>avg_y</th>\n",
       "      <th>game_score</th>\n",
       "      <th>apple_pos</th>\n",
       "    </tr>\n",
       "  </thead>\n",
       "  <tbody>\n",
       "    <tr>\n",
       "      <td>5</td>\n",
       "      <td>194.0</td>\n",
       "      <td>340.0</td>\n",
       "      <td>194.00</td>\n",
       "      <td>315.25</td>\n",
       "      <td>194.0</td>\n",
       "      <td>290.5</td>\n",
       "      <td>194.00</td>\n",
       "      <td>265.75</td>\n",
       "      <td>194.0</td>\n",
       "      <td>241.0</td>\n",
       "      <td>...</td>\n",
       "      <td>1.0</td>\n",
       "      <td>0.0</td>\n",
       "      <td>194.0</td>\n",
       "      <td>241.0</td>\n",
       "      <td>194.0</td>\n",
       "      <td>340.0</td>\n",
       "      <td>194.000000</td>\n",
       "      <td>290.500000</td>\n",
       "      <td>3.0</td>\n",
       "      <td>[370, 10]</td>\n",
       "    </tr>\n",
       "    <tr>\n",
       "      <td>6</td>\n",
       "      <td>368.0</td>\n",
       "      <td>28.0</td>\n",
       "      <td>368.00</td>\n",
       "      <td>61.00</td>\n",
       "      <td>368.0</td>\n",
       "      <td>94.0</td>\n",
       "      <td>368.00</td>\n",
       "      <td>127.00</td>\n",
       "      <td>368.0</td>\n",
       "      <td>160.0</td>\n",
       "      <td>...</td>\n",
       "      <td>0.0</td>\n",
       "      <td>1.0</td>\n",
       "      <td>368.0</td>\n",
       "      <td>28.0</td>\n",
       "      <td>368.0</td>\n",
       "      <td>160.0</td>\n",
       "      <td>368.000000</td>\n",
       "      <td>94.000000</td>\n",
       "      <td>4.0</td>\n",
       "      <td>[50, 380]</td>\n",
       "    </tr>\n",
       "    <tr>\n",
       "      <td>19</td>\n",
       "      <td>416.0</td>\n",
       "      <td>178.0</td>\n",
       "      <td>356.75</td>\n",
       "      <td>259.00</td>\n",
       "      <td>302.0</td>\n",
       "      <td>173.5</td>\n",
       "      <td>241.25</td>\n",
       "      <td>94.00</td>\n",
       "      <td>257.0</td>\n",
       "      <td>34.0</td>\n",
       "      <td>...</td>\n",
       "      <td>0.0</td>\n",
       "      <td>1.0</td>\n",
       "      <td>209.0</td>\n",
       "      <td>34.0</td>\n",
       "      <td>416.0</td>\n",
       "      <td>259.0</td>\n",
       "      <td>308.333333</td>\n",
       "      <td>158.166667</td>\n",
       "      <td>17.0</td>\n",
       "      <td>[280, 350]</td>\n",
       "    </tr>\n",
       "    <tr>\n",
       "      <td>25</td>\n",
       "      <td>290.0</td>\n",
       "      <td>352.0</td>\n",
       "      <td>365.75</td>\n",
       "      <td>412.00</td>\n",
       "      <td>398.0</td>\n",
       "      <td>254.5</td>\n",
       "      <td>395.75</td>\n",
       "      <td>67.00</td>\n",
       "      <td>224.0</td>\n",
       "      <td>49.0</td>\n",
       "      <td>...</td>\n",
       "      <td>0.0</td>\n",
       "      <td>0.0</td>\n",
       "      <td>224.0</td>\n",
       "      <td>49.0</td>\n",
       "      <td>398.0</td>\n",
       "      <td>412.0</td>\n",
       "      <td>347.125000</td>\n",
       "      <td>235.875000</td>\n",
       "      <td>23.0</td>\n",
       "      <td>[30, 80]</td>\n",
       "    </tr>\n",
       "    <tr>\n",
       "      <td>27</td>\n",
       "      <td>233.0</td>\n",
       "      <td>250.0</td>\n",
       "      <td>125.75</td>\n",
       "      <td>151.00</td>\n",
       "      <td>36.5</td>\n",
       "      <td>85.0</td>\n",
       "      <td>242.75</td>\n",
       "      <td>85.00</td>\n",
       "      <td>338.0</td>\n",
       "      <td>196.0</td>\n",
       "      <td>...</td>\n",
       "      <td>1.0</td>\n",
       "      <td>0.0</td>\n",
       "      <td>11.0</td>\n",
       "      <td>85.0</td>\n",
       "      <td>338.0</td>\n",
       "      <td>250.0</td>\n",
       "      <td>180.615385</td>\n",
       "      <td>130.576923</td>\n",
       "      <td>25.0</td>\n",
       "      <td>[130, 150]</td>\n",
       "    </tr>\n",
       "  </tbody>\n",
       "</table>\n",
       "<p>5 rows × 22 columns</p>\n",
       "</div>"
      ],
      "text/plain": [
       "    norm_pos_0_x  norm_pos_0_y  norm_pos_1_x  norm_pos_1_y  norm_pos_2_x  \\\n",
       "5          194.0         340.0        194.00        315.25         194.0   \n",
       "6          368.0          28.0        368.00         61.00         368.0   \n",
       "19         416.0         178.0        356.75        259.00         302.0   \n",
       "25         290.0         352.0        365.75        412.00         398.0   \n",
       "27         233.0         250.0        125.75        151.00          36.5   \n",
       "\n",
       "    norm_pos_2_y  norm_pos_3_x  norm_pos_3_y  norm_pos_4_x  norm_pos_4_y  ...  \\\n",
       "5          290.5        194.00        265.75         194.0         241.0  ...   \n",
       "6           94.0        368.00        127.00         368.0         160.0  ...   \n",
       "19         173.5        241.25         94.00         257.0          34.0  ...   \n",
       "25         254.5        395.75         67.00         224.0          49.0  ...   \n",
       "27          85.0        242.75         85.00         338.0         196.0  ...   \n",
       "\n",
       "    snake_dir_D  snake_dir_U  min_x  min_y  max_x  max_y       avg_x  \\\n",
       "5           1.0          0.0  194.0  241.0  194.0  340.0  194.000000   \n",
       "6           0.0          1.0  368.0   28.0  368.0  160.0  368.000000   \n",
       "19          0.0          1.0  209.0   34.0  416.0  259.0  308.333333   \n",
       "25          0.0          0.0  224.0   49.0  398.0  412.0  347.125000   \n",
       "27          1.0          0.0   11.0   85.0  338.0  250.0  180.615385   \n",
       "\n",
       "         avg_y  game_score   apple_pos  \n",
       "5   290.500000         3.0   [370, 10]  \n",
       "6    94.000000         4.0   [50, 380]  \n",
       "19  158.166667        17.0  [280, 350]  \n",
       "25  235.875000        23.0    [30, 80]  \n",
       "27  130.576923        25.0  [130, 150]  \n",
       "\n",
       "[5 rows x 22 columns]"
      ]
     },
     "execution_count": 20,
     "metadata": {},
     "output_type": "execute_result"
    }
   ],
   "source": [
    "feat_df = selected_df.copy()\n",
    "# todo move to pre procc and solve game bug\n",
    "feat_df.loc[(feat_df.score==0), \"snake_dir\"] =[[np.array([0,0])]]\n",
    "\n",
    "feat_df = feat_df.apply(lambda r: pd.Series(compute_all_feats(r[\"snake_pos\"], r[\"snake_dir\"], r[\"score\"], True)), axis=1)\n",
    "feat_df[\"apple_pos\"] = selected_df[\"apple_pos\"]\n",
    "#feat_df = feat_df.join(pd.get_dummies(feat_df[\"head_ang\"].apply(int), prefix=\"head_ang\"))\n",
    "\n",
    "feat_df.head()"
   ]
  },
  {
   "cell_type": "markdown",
   "metadata": {},
   "source": [
    "## 4 - Tranning\n",
    "####  \n",
    "In this final section we are going to to talk about some details we should pay attention to during cross validation and testing.\n",
    "\n",
    "Since we are generating data that is based on other rows, we have to be careful with the way we generate new data.\n",
    " We have to make sure that there is no leaking between training and validation sets! For that we used sklearn `GridSearchCV`\n",
    " with costum folds. This way we start by using `KFold` in our selected dataset, then for each training fold we generate new data. Finally, this generated data is added to the initial training fold.\n",
    " \n",
    " This implementation can be seen below."
   ]
  },
  {
   "cell_type": "code",
   "execution_count": 21,
   "metadata": {},
   "outputs": [
    {
     "name": "stdout",
     "output_type": "stream",
     "text": [
      "GENERATED 655 ENTRIES FROM 248\n"
     ]
    }
   ],
   "source": [
    "kf = KFold(n_splits=3)\n",
    "train_df = selected_df.copy()\n",
    "gen_folds = []\n",
    "for train, test in kf.split(train_df):\n",
    "    gen_df = generate_apples(train_df.iloc[train])\n",
    "    \n",
    "    prev_train_df_size = train_df.shape[0]\n",
    "    train_df = train_df.append(gen_df.drop(\"index\", axis=1), ignore_index=True, sort=True)\n",
    "    \n",
    "    new_train = np.array(tuple(train) + tuple(range(prev_train_df_size,train_df.shape[0])))\n",
    "    gen_folds.append((new_train, test))\n",
    "\n",
    "print(\"GENERATED\", train_df.shape[0]-selected_df.shape[0], \"ENTRIES FROM\", selected_df.shape[0])"
   ]
  },
  {
   "cell_type": "code",
   "execution_count": 22,
   "metadata": {},
   "outputs": [
    {
     "data": {
      "text/plain": [
       "((903, 21), (903, 2))"
      ]
     },
     "execution_count": 22,
     "metadata": {},
     "output_type": "execute_result"
    }
   ],
   "source": [
    "# Computing the features for the generated data\n",
    "X = np.stack(train_df.apply(lambda r: compute_all_feats(r[\"snake_pos\"], r[\"snake_dir\"], r[\"score\"]), axis=1).values)\n",
    "y = np.stack(train_df.apple_pos.values)\n",
    "\n",
    "X.shape, y.shape"
   ]
  },
  {
   "cell_type": "code",
   "execution_count": 23,
   "metadata": {},
   "outputs": [],
   "source": [
    "# picked Random Forest \n",
    "regr = RandomForestRegressor()\n",
    "#regr = ExtraTreesRegressor()"
   ]
  },
  {
   "cell_type": "markdown",
   "metadata": {},
   "source": [
    "To score our predictions we are going to use the strait line distance between the original apple location and the predicted one."
   ]
  },
  {
   "cell_type": "code",
   "execution_count": 24,
   "metadata": {},
   "outputs": [
    {
     "name": "stderr",
     "output_type": "stream",
     "text": [
      "/Users/filipe/.local/share/virtualenvs/snake_pydata-bZLAyaY7/lib/python3.7/site-packages/sklearn/model_selection/_search.py:814: DeprecationWarning: The default of the `iid` parameter will change from True to False in version 0.22 and will be removed in 0.24. This will change numeric results when test-set sizes are unequal.\n",
      "  DeprecationWarning)\n"
     ]
    },
    {
     "data": {
      "text/html": [
       "<div>\n",
       "<style scoped>\n",
       "    .dataframe tbody tr th:only-of-type {\n",
       "        vertical-align: middle;\n",
       "    }\n",
       "\n",
       "    .dataframe tbody tr th {\n",
       "        vertical-align: top;\n",
       "    }\n",
       "\n",
       "    .dataframe thead th {\n",
       "        text-align: right;\n",
       "    }\n",
       "</style>\n",
       "<table border=\"1\" class=\"dataframe\">\n",
       "  <thead>\n",
       "    <tr style=\"text-align: right;\">\n",
       "      <th></th>\n",
       "      <th>max_depth</th>\n",
       "      <th>max_features</th>\n",
       "      <th>min_samples_leaf</th>\n",
       "      <th>n_estimators</th>\n",
       "      <th>mean_test_score</th>\n",
       "    </tr>\n",
       "  </thead>\n",
       "  <tbody>\n",
       "    <tr>\n",
       "      <td>14</td>\n",
       "      <td>10.0</td>\n",
       "      <td>0.5</td>\n",
       "      <td>9</td>\n",
       "      <td>20</td>\n",
       "      <td>-152.107293</td>\n",
       "    </tr>\n",
       "    <tr>\n",
       "      <td>22</td>\n",
       "      <td>20.0</td>\n",
       "      <td>0.5</td>\n",
       "      <td>3</td>\n",
       "      <td>20</td>\n",
       "      <td>-152.698702</td>\n",
       "    </tr>\n",
       "    <tr>\n",
       "      <td>32</td>\n",
       "      <td>NaN</td>\n",
       "      <td>0.5</td>\n",
       "      <td>9</td>\n",
       "      <td>20</td>\n",
       "      <td>-153.300954</td>\n",
       "    </tr>\n",
       "    <tr>\n",
       "      <td>28</td>\n",
       "      <td>NaN</td>\n",
       "      <td>auto</td>\n",
       "      <td>3</td>\n",
       "      <td>20</td>\n",
       "      <td>-153.549968</td>\n",
       "    </tr>\n",
       "    <tr>\n",
       "      <td>4</td>\n",
       "      <td>5.0</td>\n",
       "      <td>0.5</td>\n",
       "      <td>3</td>\n",
       "      <td>20</td>\n",
       "      <td>-153.747767</td>\n",
       "    </tr>\n",
       "    <tr>\n",
       "      <td>26</td>\n",
       "      <td>20.0</td>\n",
       "      <td>0.9</td>\n",
       "      <td>9</td>\n",
       "      <td>20</td>\n",
       "      <td>-153.836721</td>\n",
       "    </tr>\n",
       "    <tr>\n",
       "      <td>31</td>\n",
       "      <td>NaN</td>\n",
       "      <td>0.5</td>\n",
       "      <td>3</td>\n",
       "      <td>20</td>\n",
       "      <td>-154.021688</td>\n",
       "    </tr>\n",
       "    <tr>\n",
       "      <td>3</td>\n",
       "      <td>5.0</td>\n",
       "      <td>0.5</td>\n",
       "      <td>1</td>\n",
       "      <td>20</td>\n",
       "      <td>-154.268689</td>\n",
       "    </tr>\n",
       "    <tr>\n",
       "      <td>23</td>\n",
       "      <td>20.0</td>\n",
       "      <td>0.5</td>\n",
       "      <td>9</td>\n",
       "      <td>20</td>\n",
       "      <td>-154.302778</td>\n",
       "    </tr>\n",
       "    <tr>\n",
       "      <td>8</td>\n",
       "      <td>5.0</td>\n",
       "      <td>0.9</td>\n",
       "      <td>9</td>\n",
       "      <td>20</td>\n",
       "      <td>-154.489937</td>\n",
       "    </tr>\n",
       "  </tbody>\n",
       "</table>\n",
       "</div>"
      ],
      "text/plain": [
       "    max_depth max_features  min_samples_leaf  n_estimators  mean_test_score\n",
       "14       10.0          0.5                 9            20      -152.107293\n",
       "22       20.0          0.5                 3            20      -152.698702\n",
       "32        NaN          0.5                 9            20      -153.300954\n",
       "28        NaN         auto                 3            20      -153.549968\n",
       "4         5.0          0.5                 3            20      -153.747767\n",
       "26       20.0          0.9                 9            20      -153.836721\n",
       "31        NaN          0.5                 3            20      -154.021688\n",
       "3         5.0          0.5                 1            20      -154.268689\n",
       "23       20.0          0.5                 9            20      -154.302778\n",
       "8         5.0          0.9                 9            20      -154.489937"
      ]
     },
     "execution_count": 24,
     "metadata": {},
     "output_type": "execute_result"
    }
   ],
   "source": [
    "param_grid = {\n",
    "    'n_estimators': [20],\n",
    "    'max_depth': [5, 10, 20, None],\n",
    "    'min_samples_leaf':[1, 3,9],\n",
    "    'max_features':['auto', 0.5, 0.9]\n",
    "}\n",
    "# Creating our scorer\n",
    "scorer = metrics.make_scorer(lambda y, y_pred: compute_distance(y, y_pred).mean(), greater_is_better=False)\n",
    "\n",
    "grid_clf = GridSearchCV(regr, param_grid, cv=gen_folds, scoring=scorer)\n",
    "grid_clf.fit(X, y)#, sample_weight=samp_weights)\n",
    "\n",
    "# Get best regressor\n",
    "regr = grid_clf.best_estimator_\n",
    "\n",
    "# Processing GridSearchCV results\n",
    "results_df = pd.DataFrame(grid_clf.cv_results_['params'])\n",
    "results_df[\"mean_test_score\"] = grid_clf.cv_results_[\"mean_test_score\"]\n",
    "results_df.sort_values(\"mean_test_score\", ascending=False)[:10]"
   ]
  },
  {
   "cell_type": "code",
   "execution_count": 25,
   "metadata": {},
   "outputs": [
    {
     "data": {
      "text/plain": [
       "RandomForestRegressor(bootstrap=True, criterion='mse', max_depth=10,\n",
       "                      max_features=0.5, max_leaf_nodes=None,\n",
       "                      min_impurity_decrease=0.0, min_impurity_split=None,\n",
       "                      min_samples_leaf=9, min_samples_split=2,\n",
       "                      min_weight_fraction_leaf=0.0, n_estimators=100,\n",
       "                      n_jobs=None, oob_score=False, random_state=None,\n",
       "                      verbose=0, warm_start=False)"
      ]
     },
     "execution_count": 25,
     "metadata": {},
     "output_type": "execute_result"
    }
   ],
   "source": [
    "# Trainig error and final model\n",
    "gen_df = generate_apples(selected_df)\n",
    "total_train_df = selected_df.append(gen_df.drop(\"index\", axis=1), ignore_index=True, sort=True)\n",
    "\n",
    "X_total = np.stack(total_train_df.apply(lambda r: compute_all_feats(r[\"snake_pos\"], r[\"snake_dir\"], r[\"score\"]), axis=1).values)\n",
    "y_total = np.stack(total_train_df.apple_pos.values)\n",
    "samp_weights_total = total_train_df[\"apple_plc_score\"].values*10\n",
    "\n",
    "# Prediction and avg error\n",
    "regr.set_params(n_estimators=100)\n",
    "regr.fit(X_total, y_total, sample_weight=samp_weights_total) \n"
   ]
  },
  {
   "cell_type": "code",
   "execution_count": 26,
   "metadata": {},
   "outputs": [
    {
     "data": {
      "text/plain": [
       "94.63433414795504"
      ]
     },
     "execution_count": 26,
     "metadata": {},
     "output_type": "execute_result"
    }
   ],
   "source": [
    "# Training error\n",
    "y_pred = regr.predict(X_total)\n",
    "\n",
    "pred_dist = compute_distance(y_total,y_pred)\n",
    "\n",
    "# We are have some overfit, once the train error is 2/3 lower than the test error\n",
    "pred_dist.mean()"
   ]
  },
  {
   "cell_type": "code",
   "execution_count": 27,
   "metadata": {},
   "outputs": [
    {
     "data": {
      "text/plain": [
       "<matplotlib.axes._subplots.AxesSubplot at 0x1314010b8>"
      ]
     },
     "execution_count": 27,
     "metadata": {},
     "output_type": "execute_result"
    },
    {
     "data": {
      "image/png": "[encoded data removed]",
      "text/plain": [
       "<Figure size 432x288 with 1 Axes>"
      ]
     },
     "metadata": {
      "needs_background": "light"
     },
     "output_type": "display_data"
    }
   ],
   "source": [
    "total_train_df[\"pred_apple_pos\"] = np.vsplit(y_pred, y_pred.shape[0])\n",
    "total_train_df[\"pred_apple_pos\"]  = total_train_df[\"pred_apple_pos\"].apply(lambda r:np.array(r[0]))\n",
    "total_train_df[\"pred_dist\"] = pred_dist\n",
    "total_train_df[\"pred_dist\"].hist(bins=100)"
   ]
  },
  {
   "cell_type": "code",
   "execution_count": 28,
   "metadata": {},
   "outputs": [
    {
     "data": {
      "text/html": [
       "<div>\n",
       "<style scoped>\n",
       "    .dataframe tbody tr th:only-of-type {\n",
       "        vertical-align: middle;\n",
       "    }\n",
       "\n",
       "    .dataframe tbody tr th {\n",
       "        vertical-align: top;\n",
       "    }\n",
       "\n",
       "    .dataframe thead th {\n",
       "        text-align: right;\n",
       "    }\n",
       "</style>\n",
       "<table border=\"1\" class=\"dataframe\">\n",
       "  <thead>\n",
       "    <tr style=\"text-align: right;\">\n",
       "      <th></th>\n",
       "      <th>0</th>\n",
       "      <th>1</th>\n",
       "    </tr>\n",
       "  </thead>\n",
       "  <tbody>\n",
       "    <tr>\n",
       "      <td>0</td>\n",
       "      <td>norm_pos_0_x</td>\n",
       "      <td>0.115042</td>\n",
       "    </tr>\n",
       "    <tr>\n",
       "      <td>1</td>\n",
       "      <td>norm_pos_0_y</td>\n",
       "      <td>0.107559</td>\n",
       "    </tr>\n",
       "    <tr>\n",
       "      <td>12</td>\n",
       "      <td>snake_dir_D</td>\n",
       "      <td>0.102110</td>\n",
       "    </tr>\n",
       "    <tr>\n",
       "      <td>10</td>\n",
       "      <td>snake_dir_R</td>\n",
       "      <td>0.072882</td>\n",
       "    </tr>\n",
       "    <tr>\n",
       "      <td>11</td>\n",
       "      <td>snake_dir_L</td>\n",
       "      <td>0.068318</td>\n",
       "    </tr>\n",
       "    <tr>\n",
       "      <td>5</td>\n",
       "      <td>norm_pos_2_y</td>\n",
       "      <td>0.048683</td>\n",
       "    </tr>\n",
       "    <tr>\n",
       "      <td>13</td>\n",
       "      <td>snake_dir_U</td>\n",
       "      <td>0.046022</td>\n",
       "    </tr>\n",
       "    <tr>\n",
       "      <td>4</td>\n",
       "      <td>norm_pos_2_x</td>\n",
       "      <td>0.043108</td>\n",
       "    </tr>\n",
       "    <tr>\n",
       "      <td>18</td>\n",
       "      <td>avg_x</td>\n",
       "      <td>0.042093</td>\n",
       "    </tr>\n",
       "    <tr>\n",
       "      <td>3</td>\n",
       "      <td>norm_pos_1_y</td>\n",
       "      <td>0.040164</td>\n",
       "    </tr>\n",
       "  </tbody>\n",
       "</table>\n",
       "</div>"
      ],
      "text/plain": [
       "               0         1\n",
       "0   norm_pos_0_x  0.115042\n",
       "1   norm_pos_0_y  0.107559\n",
       "12   snake_dir_D  0.102110\n",
       "10   snake_dir_R  0.072882\n",
       "11   snake_dir_L  0.068318\n",
       "5   norm_pos_2_y  0.048683\n",
       "13   snake_dir_U  0.046022\n",
       "4   norm_pos_2_x  0.043108\n",
       "18         avg_x  0.042093\n",
       "3   norm_pos_1_y  0.040164"
      ]
     },
     "execution_count": 28,
     "metadata": {},
     "output_type": "execute_result"
    }
   ],
   "source": [
    "# Feature importance\n",
    "# if scr_size is not the same, the bigger side is more important\n",
    "features_importance_list = list(zip(feat_df.loc[:,:\"game_score\"].columns, regr.feature_importances_))\n",
    "pd.DataFrame(features_importance_list).sort_values(1, ascending=False)[:10]"
   ]
  },
  {
   "cell_type": "code",
   "execution_count": 29,
   "metadata": {},
   "outputs": [
    {
     "data": {
      "image/png": "[encoded data removed]",
      "text/plain": [
       "<Figure size 1512x504 with 3 Axes>"
      ]
     },
     "metadata": {
      "needs_background": "light"
     },
     "output_type": "display_data"
    }
   ],
   "source": [
    "plot_snake(total_train_df.sample(3),apple_cols=[\"apple_pos\",\"pred_apple_pos\"])"
   ]
  },
  {
   "cell_type": "code",
   "execution_count": 30,
   "metadata": {},
   "outputs": [
    {
     "data": {
      "text/plain": [
       "94.63433414795504"
      ]
     },
     "execution_count": 30,
     "metadata": {},
     "output_type": "execute_result"
    }
   ],
   "source": [
    "# saving the model to be loaded in the game\n",
    "model_name = 'regr.pkl'\n",
    "\n",
    "with open(model_name, 'wb') as f:\n",
    "    pickle.dump(regr, f)\n",
    "# and later you can load it\n",
    "with open(model_name, 'rb') as f:\n",
    "    regr_ff = pickle.load(f)\n",
    "# Making sure we load it and get the same training error\n",
    "y_pred_ff = regr_ff.predict(X_total)\n",
    "pred_dist_ff = compute_distance(y_total, y_pred_ff)\n",
    "pred_dist_ff.mean()"
   ]
  },
  {
   "cell_type": "markdown",
   "metadata": {},
   "source": [
    "## 4.1 - Testing\n",
    "####  \n",
    "To test our final prediction we shouldn't use the distance between the original apple location and the predicted one. In this cases we want to use the metrics that we defined to compare the random generator with our model, and check if our model has better average metrics than the random process."
   ]
  },
  {
   "cell_type": "code",
   "execution_count": 31,
   "metadata": {},
   "outputs": [
    {
     "data": {
      "text/html": [
       "<div>\n",
       "<style scoped>\n",
       "    .dataframe tbody tr th:only-of-type {\n",
       "        vertical-align: middle;\n",
       "    }\n",
       "\n",
       "    .dataframe tbody tr th {\n",
       "        vertical-align: top;\n",
       "    }\n",
       "\n",
       "    .dataframe thead th {\n",
       "        text-align: right;\n",
       "    }\n",
       "</style>\n",
       "<table border=\"1\" class=\"dataframe\">\n",
       "  <thead>\n",
       "    <tr style=\"text-align: right;\">\n",
       "      <th></th>\n",
       "      <th>status</th>\n",
       "      <th>time_secs</th>\n",
       "      <th>score</th>\n",
       "      <th>moves_to_apple</th>\n",
       "      <th>apple_pos</th>\n",
       "      <th>snake_pos</th>\n",
       "      <th>snake_dir</th>\n",
       "      <th>time_to_apple</th>\n",
       "      <th>prev_apple_pos</th>\n",
       "      <th>apple_dist</th>\n",
       "      <th>snake_dir_to_apple_angle</th>\n",
       "      <th>num_intersections_w_snake</th>\n",
       "      <th>num_apple_sides_w_snake</th>\n",
       "      <th>apple_plc_score</th>\n",
       "    </tr>\n",
       "  </thead>\n",
       "  <tbody>\n",
       "    <tr>\n",
       "      <td>1036</td>\n",
       "      <td>apple</td>\n",
       "      <td>1.607</td>\n",
       "      <td>0</td>\n",
       "      <td>3</td>\n",
       "      <td>[230, 390]</td>\n",
       "      <td>[[400, 300]]</td>\n",
       "      <td>[0, 3]</td>\n",
       "      <td>1.607</td>\n",
       "      <td>[]</td>\n",
       "      <td>192.353841</td>\n",
       "      <td>62.102729</td>\n",
       "      <td>0.0</td>\n",
       "      <td>0</td>\n",
       "      <td>0.420593</td>\n",
       "    </tr>\n",
       "    <tr>\n",
       "      <td>1037</td>\n",
       "      <td>apple</td>\n",
       "      <td>2.263</td>\n",
       "      <td>8</td>\n",
       "      <td>1</td>\n",
       "      <td>[180, 330]</td>\n",
       "      <td>[[235, 408], [259, 417], [292, 417], [325, 417...</td>\n",
       "      <td>[0, -3]</td>\n",
       "      <td>0.656</td>\n",
       "      <td>[230, 390]</td>\n",
       "      <td>95.441081</td>\n",
       "      <td>35.188743</td>\n",
       "      <td>0.0</td>\n",
       "      <td>1</td>\n",
       "      <td>0.172580</td>\n",
       "    </tr>\n",
       "    <tr>\n",
       "      <td>1038</td>\n",
       "      <td>apple</td>\n",
       "      <td>4.292</td>\n",
       "      <td>12</td>\n",
       "      <td>2</td>\n",
       "      <td>[230, 100]</td>\n",
       "      <td>[[199, 327], [232, 327], [235, 357], [235, 390...</td>\n",
       "      <td>[-3, 0]</td>\n",
       "      <td>2.029</td>\n",
       "      <td>[180, 330]</td>\n",
       "      <td>229.106962</td>\n",
       "      <td>97.776429</td>\n",
       "      <td>0.0</td>\n",
       "      <td>1</td>\n",
       "      <td>0.451709</td>\n",
       "    </tr>\n",
       "    <tr>\n",
       "      <td>1039</td>\n",
       "      <td>apple</td>\n",
       "      <td>5.146</td>\n",
       "      <td>13</td>\n",
       "      <td>1</td>\n",
       "      <td>[300, 170]</td>\n",
       "      <td>[[202, 90], [169, 90], [136, 90], [136, 123], ...</td>\n",
       "      <td>[3, 0]</td>\n",
       "      <td>0.854</td>\n",
       "      <td>[230, 100]</td>\n",
       "      <td>126.506917</td>\n",
       "      <td>39.225674</td>\n",
       "      <td>0.0</td>\n",
       "      <td>1</td>\n",
       "      <td>0.199950</td>\n",
       "    </tr>\n",
       "    <tr>\n",
       "      <td>1040</td>\n",
       "      <td>apple</td>\n",
       "      <td>6.243</td>\n",
       "      <td>14</td>\n",
       "      <td>1</td>\n",
       "      <td>[280, 350]</td>\n",
       "      <td>[[304, 141], [304, 108], [289, 90], [256, 90],...</td>\n",
       "      <td>[0, 3]</td>\n",
       "      <td>1.097</td>\n",
       "      <td>[300, 170]</td>\n",
       "      <td>210.373477</td>\n",
       "      <td>6.550726</td>\n",
       "      <td>0.0</td>\n",
       "      <td>1</td>\n",
       "      <td>0.241541</td>\n",
       "    </tr>\n",
       "  </tbody>\n",
       "</table>\n",
       "</div>"
      ],
      "text/plain": [
       "     status  time_secs  score  moves_to_apple   apple_pos  \\\n",
       "1036  apple      1.607      0               3  [230, 390]   \n",
       "1037  apple      2.263      8               1  [180, 330]   \n",
       "1038  apple      4.292     12               2  [230, 100]   \n",
       "1039  apple      5.146     13               1  [300, 170]   \n",
       "1040  apple      6.243     14               1  [280, 350]   \n",
       "\n",
       "                                              snake_pos snake_dir  \\\n",
       "1036                                       [[400, 300]]    [0, 3]   \n",
       "1037  [[235, 408], [259, 417], [292, 417], [325, 417...   [0, -3]   \n",
       "1038  [[199, 327], [232, 327], [235, 357], [235, 390...   [-3, 0]   \n",
       "1039  [[202, 90], [169, 90], [136, 90], [136, 123], ...    [3, 0]   \n",
       "1040  [[304, 141], [304, 108], [289, 90], [256, 90],...    [0, 3]   \n",
       "\n",
       "      time_to_apple prev_apple_pos  apple_dist  snake_dir_to_apple_angle  \\\n",
       "1036          1.607             []  192.353841                 62.102729   \n",
       "1037          0.656     [230, 390]   95.441081                 35.188743   \n",
       "1038          2.029     [180, 330]  229.106962                 97.776429   \n",
       "1039          0.854     [230, 100]  126.506917                 39.225674   \n",
       "1040          1.097     [300, 170]  210.373477                  6.550726   \n",
       "\n",
       "      num_intersections_w_snake  num_apple_sides_w_snake  apple_plc_score  \n",
       "1036                        0.0                        0         0.420593  \n",
       "1037                        0.0                        1         0.172580  \n",
       "1038                        0.0                        1         0.451709  \n",
       "1039                        0.0                        1         0.199950  \n",
       "1040                        0.0                        1         0.241541  "
      ]
     },
     "execution_count": 31,
     "metadata": {},
     "output_type": "execute_result"
    }
   ],
   "source": [
    "test_df.head()"
   ]
  },
  {
   "cell_type": "code",
   "execution_count": 32,
   "metadata": {},
   "outputs": [
    {
     "data": {
      "text/plain": [
       "((320, 21), (320, 2))"
      ]
     },
     "execution_count": 32,
     "metadata": {},
     "output_type": "execute_result"
    }
   ],
   "source": [
    "# Computing features for the test set\n",
    "X_test =np.stack(test_df.apply(lambda r: compute_all_feats(r[\"snake_pos\"], r[\"snake_dir\"], r[\"score\"]), axis=1).values)\n",
    "y_test = np.stack(test_df.apple_pos.values)\n",
    "#samp_weights = test_df[\"apple_plc_score\"].values\n",
    "X_test.shape, y_test.shape"
   ]
  },
  {
   "cell_type": "code",
   "execution_count": 33,
   "metadata": {},
   "outputs": [],
   "source": [
    "y_pred_test = regr.predict(X_test)\n",
    "\n",
    "pred_dist_test = compute_distance(y_test, y_pred_test)\n",
    "\n",
    "test_df[\"pred_apple_pos\"] = np.vsplit(y_pred_test, y_pred_test.shape[0])\n",
    "test_df[\"pred_apple_pos\"]  = test_df[\"pred_apple_pos\"].apply(lambda r:np.array(r[0]))"
   ]
  },
  {
   "cell_type": "code",
   "execution_count": 34,
   "metadata": {},
   "outputs": [],
   "source": [
    "pred_metrics_df = compute_all_metrics(test_df, apple_pos_col_name=\"pred_apple_pos\")[metrics_columns]\n",
    "orig_metrics_df = compute_all_metrics(test_df, apple_pos_col_name=\"apple_pos\")[metrics_columns]"
   ]
  },
  {
   "cell_type": "code",
   "execution_count": 35,
   "metadata": {},
   "outputs": [
    {
     "data": {
      "text/plain": [
       "moves_to_apple                 2.387500\n",
       "time_to_apple                  2.277281\n",
       "apple_dist                   204.875670\n",
       "snake_dir_to_apple_angle     122.854570\n",
       "num_intersections_w_snake      0.453125\n",
       "dtype: float64"
      ]
     },
     "execution_count": 35,
     "metadata": {},
     "output_type": "execute_result"
    }
   ],
   "source": [
    "pred_metrics_df.mean()"
   ]
  },
  {
   "cell_type": "code",
   "execution_count": 36,
   "metadata": {},
   "outputs": [
    {
     "data": {
      "text/plain": [
       "moves_to_apple                 2.387500\n",
       "time_to_apple                  2.277281\n",
       "apple_dist                   213.964878\n",
       "snake_dir_to_apple_angle      95.087138\n",
       "num_intersections_w_snake      0.309375\n",
       "dtype: float64"
      ]
     },
     "execution_count": 36,
     "metadata": {},
     "output_type": "execute_result"
    }
   ],
   "source": [
    "orig_metrics_df.mean()"
   ]
  },
  {
   "cell_type": "markdown",
   "metadata": {},
   "source": [
    "## 5 - Create a model with your apples!\n",
    "####  \n",
    "As a final challenge, I propose you to try to create a model with your own plays. For that, try to have at least 100 plays (apple catches), which, however, is still too few observations to train the model. You will have to decrease the limit of the metric's score and also increase the `n_tries` variable in the `generate_apples()` function.\n",
    "\n",
    "Remeber to change the `get_apple_location_from_model` to `False` and the `file_name` in the `snake_game/config.py` file."
   ]
  }
 ],
 "metadata": {
  "kernelspec": {
   "display_name": "snake_pydata",
   "language": "python",
   "name": "snake_pydata"
  },
  "language_info": {
   "codemirror_mode": {
    "name": "ipython",
    "version": 3
   },
   "file_extension": ".py",
   "mimetype": "text/x-python",
   "name": "python",
   "nbconvert_exporter": "python",
   "pygments_lexer": "ipython3",
   "version": "3.7.2"
  }
 },
 "nbformat": 4,
 "nbformat_minor": 2
}
